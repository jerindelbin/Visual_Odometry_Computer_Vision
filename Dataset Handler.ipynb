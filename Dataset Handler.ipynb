{
 "cells": [
  {
   "cell_type": "code",
   "execution_count": 1,
   "id": "8ca4a76b-6e4a-42b0-a7f5-476957f17a4f",
   "metadata": {},
   "outputs": [],
   "source": [
    "# DATASET HANDLER"
   ]
  },
  {
   "cell_type": "code",
   "execution_count": 3,
   "id": "827e7f7e-d57f-490a-a772-e83a70eb1f1f",
   "metadata": {},
   "outputs": [],
   "source": [
    "import cv2\n",
    "import os\n",
    "import matplotlib as plt\n",
    "import pandas\n",
    "import numpy "
   ]
  },
  {
   "cell_type": "code",
   "execution_count": null,
   "id": "4389c24c-b4fd-42f5-922b-5732d6a7fbbf",
   "metadata": {},
   "outputs": [],
   "source": []
  }
 ],
 "metadata": {
  "kernelspec": {
   "display_name": "Python 3 (ipykernel)",
   "language": "python",
   "name": "python3"
  },
  "language_info": {
   "codemirror_mode": {
    "name": "ipython",
    "version": 3
   },
   "file_extension": ".py",
   "mimetype": "text/x-python",
   "name": "python",
   "nbconvert_exporter": "python",
   "pygments_lexer": "ipython3",
   "version": "3.12.2"
  }
 },
 "nbformat": 4,
 "nbformat_minor": 5
}
